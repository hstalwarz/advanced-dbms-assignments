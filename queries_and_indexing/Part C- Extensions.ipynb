{
 "cells": [
  {
   "cell_type": "code",
   "execution_count": 1,
   "metadata": {},
   "outputs": [],
   "source": [
    "import pandas as pd\n",
    "import seaborn as sns\n",
    "import matplotlib.pyplot as plt"
   ]
  },
  {
   "cell_type": "markdown",
   "metadata": {},
   "source": [
    "### Part 3) Clustered indexes for join: Repeat the join experiment, but build a clustered index on the join key X.c and another one on the field Y.c.  Report on these results relative to the other indexing schemes."
   ]
  },
  {
   "cell_type": "code",
   "execution_count": 2,
   "metadata": {},
   "outputs": [],
   "source": [
    "join_query_time = pd.DataFrame({\"Type\": [\"Baseline\", \"Btree\", \"Cover\", \"Filter\", \"Clustered\"],\n",
    "                                \"20%\": [34.5614, 33.3448, 32.793, 31.5016, 32.439],\n",
    "                                \"50%\": [44.7684, 45.69, 45.2936, 44.2624, 43.2228],\n",
    "                                \"80%\": [56.2124, 54.5628, 54.1644, 54.346, 53.6912]})"
   ]
  },
  {
   "cell_type": "code",
   "execution_count": 4,
   "metadata": {},
   "outputs": [
    {
     "data": {
      "text/html": [
       "<div>\n",
       "<style scoped>\n",
       "    .dataframe tbody tr th:only-of-type {\n",
       "        vertical-align: middle;\n",
       "    }\n",
       "\n",
       "    .dataframe tbody tr th {\n",
       "        vertical-align: top;\n",
       "    }\n",
       "\n",
       "    .dataframe thead th {\n",
       "        text-align: right;\n",
       "    }\n",
       "</style>\n",
       "<table border=\"1\" class=\"dataframe\">\n",
       "  <thead>\n",
       "    <tr style=\"text-align: right;\">\n",
       "      <th></th>\n",
       "      <th>Type</th>\n",
       "      <th>20%</th>\n",
       "      <th>50%</th>\n",
       "      <th>80%</th>\n",
       "    </tr>\n",
       "  </thead>\n",
       "  <tbody>\n",
       "    <tr>\n",
       "      <th>0</th>\n",
       "      <td>Baseline</td>\n",
       "      <td>34.5614</td>\n",
       "      <td>44.7684</td>\n",
       "      <td>56.2124</td>\n",
       "    </tr>\n",
       "    <tr>\n",
       "      <th>1</th>\n",
       "      <td>Btree</td>\n",
       "      <td>33.3448</td>\n",
       "      <td>45.6900</td>\n",
       "      <td>54.5628</td>\n",
       "    </tr>\n",
       "    <tr>\n",
       "      <th>2</th>\n",
       "      <td>Cover</td>\n",
       "      <td>32.7930</td>\n",
       "      <td>45.2936</td>\n",
       "      <td>54.1644</td>\n",
       "    </tr>\n",
       "    <tr>\n",
       "      <th>3</th>\n",
       "      <td>Filter</td>\n",
       "      <td>31.5016</td>\n",
       "      <td>44.2624</td>\n",
       "      <td>54.3460</td>\n",
       "    </tr>\n",
       "    <tr>\n",
       "      <th>4</th>\n",
       "      <td>Clustered</td>\n",
       "      <td>32.4390</td>\n",
       "      <td>43.2228</td>\n",
       "      <td>53.6912</td>\n",
       "    </tr>\n",
       "  </tbody>\n",
       "</table>\n",
       "</div>"
      ],
      "text/plain": [
       "        Type      20%      50%      80%\n",
       "0   Baseline  34.5614  44.7684  56.2124\n",
       "1      Btree  33.3448  45.6900  54.5628\n",
       "2      Cover  32.7930  45.2936  54.1644\n",
       "3     Filter  31.5016  44.2624  54.3460\n",
       "4  Clustered  32.4390  43.2228  53.6912"
      ]
     },
     "execution_count": 4,
     "metadata": {},
     "output_type": "execute_result"
    }
   ],
   "source": [
    "join_query_time"
   ]
  },
  {
   "cell_type": "code",
   "execution_count": 6,
   "metadata": {},
   "outputs": [],
   "source": [
    "join_query_time = pd.melt(join_query_time, id_vars = \"Type\", var_name = \"Selectivity\", value_name = \"Time (ms)\")"
   ]
  },
  {
   "cell_type": "code",
   "execution_count": 7,
   "metadata": {},
   "outputs": [
    {
     "data": {
      "text/html": [
       "<div>\n",
       "<style scoped>\n",
       "    .dataframe tbody tr th:only-of-type {\n",
       "        vertical-align: middle;\n",
       "    }\n",
       "\n",
       "    .dataframe tbody tr th {\n",
       "        vertical-align: top;\n",
       "    }\n",
       "\n",
       "    .dataframe thead th {\n",
       "        text-align: right;\n",
       "    }\n",
       "</style>\n",
       "<table border=\"1\" class=\"dataframe\">\n",
       "  <thead>\n",
       "    <tr style=\"text-align: right;\">\n",
       "      <th></th>\n",
       "      <th>Type</th>\n",
       "      <th>Selectivity</th>\n",
       "      <th>Time (ms)</th>\n",
       "    </tr>\n",
       "  </thead>\n",
       "  <tbody>\n",
       "    <tr>\n",
       "      <th>0</th>\n",
       "      <td>Baseline</td>\n",
       "      <td>20%</td>\n",
       "      <td>34.5614</td>\n",
       "    </tr>\n",
       "    <tr>\n",
       "      <th>1</th>\n",
       "      <td>Btree</td>\n",
       "      <td>20%</td>\n",
       "      <td>33.3448</td>\n",
       "    </tr>\n",
       "    <tr>\n",
       "      <th>2</th>\n",
       "      <td>Cover</td>\n",
       "      <td>20%</td>\n",
       "      <td>32.7930</td>\n",
       "    </tr>\n",
       "    <tr>\n",
       "      <th>3</th>\n",
       "      <td>Filter</td>\n",
       "      <td>20%</td>\n",
       "      <td>31.5016</td>\n",
       "    </tr>\n",
       "    <tr>\n",
       "      <th>4</th>\n",
       "      <td>Clustered</td>\n",
       "      <td>20%</td>\n",
       "      <td>32.4390</td>\n",
       "    </tr>\n",
       "    <tr>\n",
       "      <th>5</th>\n",
       "      <td>Baseline</td>\n",
       "      <td>50%</td>\n",
       "      <td>44.7684</td>\n",
       "    </tr>\n",
       "    <tr>\n",
       "      <th>6</th>\n",
       "      <td>Btree</td>\n",
       "      <td>50%</td>\n",
       "      <td>45.6900</td>\n",
       "    </tr>\n",
       "    <tr>\n",
       "      <th>7</th>\n",
       "      <td>Cover</td>\n",
       "      <td>50%</td>\n",
       "      <td>45.2936</td>\n",
       "    </tr>\n",
       "    <tr>\n",
       "      <th>8</th>\n",
       "      <td>Filter</td>\n",
       "      <td>50%</td>\n",
       "      <td>44.2624</td>\n",
       "    </tr>\n",
       "    <tr>\n",
       "      <th>9</th>\n",
       "      <td>Clustered</td>\n",
       "      <td>50%</td>\n",
       "      <td>43.2228</td>\n",
       "    </tr>\n",
       "    <tr>\n",
       "      <th>10</th>\n",
       "      <td>Baseline</td>\n",
       "      <td>80%</td>\n",
       "      <td>56.2124</td>\n",
       "    </tr>\n",
       "    <tr>\n",
       "      <th>11</th>\n",
       "      <td>Btree</td>\n",
       "      <td>80%</td>\n",
       "      <td>54.5628</td>\n",
       "    </tr>\n",
       "    <tr>\n",
       "      <th>12</th>\n",
       "      <td>Cover</td>\n",
       "      <td>80%</td>\n",
       "      <td>54.1644</td>\n",
       "    </tr>\n",
       "    <tr>\n",
       "      <th>13</th>\n",
       "      <td>Filter</td>\n",
       "      <td>80%</td>\n",
       "      <td>54.3460</td>\n",
       "    </tr>\n",
       "    <tr>\n",
       "      <th>14</th>\n",
       "      <td>Clustered</td>\n",
       "      <td>80%</td>\n",
       "      <td>53.6912</td>\n",
       "    </tr>\n",
       "  </tbody>\n",
       "</table>\n",
       "</div>"
      ],
      "text/plain": [
       "         Type Selectivity  Time (ms)\n",
       "0    Baseline         20%    34.5614\n",
       "1       Btree         20%    33.3448\n",
       "2       Cover         20%    32.7930\n",
       "3      Filter         20%    31.5016\n",
       "4   Clustered         20%    32.4390\n",
       "5    Baseline         50%    44.7684\n",
       "6       Btree         50%    45.6900\n",
       "7       Cover         50%    45.2936\n",
       "8      Filter         50%    44.2624\n",
       "9   Clustered         50%    43.2228\n",
       "10   Baseline         80%    56.2124\n",
       "11      Btree         80%    54.5628\n",
       "12      Cover         80%    54.1644\n",
       "13     Filter         80%    54.3460\n",
       "14  Clustered         80%    53.6912"
      ]
     },
     "execution_count": 7,
     "metadata": {},
     "output_type": "execute_result"
    }
   ],
   "source": [
    "join_query_time"
   ]
  },
  {
   "cell_type": "code",
   "execution_count": 8,
   "metadata": {},
   "outputs": [
    {
     "data": {
      "image/png": "[encoded data removed]",
      "text/plain": [
       "<Figure size 516x432 with 1 Axes>"
      ]
     },
     "metadata": {},
     "output_type": "display_data"
    }
   ],
   "source": [
    "plt.style.use('ggplot')\n",
    "sns.catplot(x = 'Selectivity', y = 'Time (ms)', hue = 'Type', data = join_query_time, kind = 'bar', height = 6, aspect = 1)\n",
    "plt.title(\"Part C: Extensions - Clustered Indexes for Join\")\n",
    "plt.show()"
   ]
  },
  {
   "cell_type": "markdown",
   "metadata": {},
   "source": [
    "### Part 4) Index build timing: Report the time it takes to build the indexes used in the main experiment, considering different table sizes"
   ]
  },
  {
   "cell_type": "code",
   "execution_count": 2,
   "metadata": {
    "scrolled": true
   },
   "outputs": [],
   "source": [
    "index_build_time = pd.DataFrame({\"Type\": [\"Btree-TrackiId\",\"Btree-Millseconds\", \"Cover\", \"Reverse\"],\n",
    "                                \"20%\": [88.60, 83.83, 84.00, 154.33],\n",
    "                                \"50%\": [86.20, 86.66, 70.00, 121.00],\n",
    "                                \"80%\": [75.40, 81.83, 79.50, 78.16]})"
   ]
  },
  {
   "cell_type": "code",
   "execution_count": 3,
   "metadata": {},
   "outputs": [
    {
     "data": {
      "text/html": [
       "<div>\n",
       "<style scoped>\n",
       "    .dataframe tbody tr th:only-of-type {\n",
       "        vertical-align: middle;\n",
       "    }\n",
       "\n",
       "    .dataframe tbody tr th {\n",
       "        vertical-align: top;\n",
       "    }\n",
       "\n",
       "    .dataframe thead th {\n",
       "        text-align: right;\n",
       "    }\n",
       "</style>\n",
       "<table border=\"1\" class=\"dataframe\">\n",
       "  <thead>\n",
       "    <tr style=\"text-align: right;\">\n",
       "      <th></th>\n",
       "      <th>Type</th>\n",
       "      <th>20%</th>\n",
       "      <th>50%</th>\n",
       "      <th>80%</th>\n",
       "    </tr>\n",
       "  </thead>\n",
       "  <tbody>\n",
       "    <tr>\n",
       "      <th>0</th>\n",
       "      <td>Btree-TrackiId</td>\n",
       "      <td>88.60</td>\n",
       "      <td>86.20</td>\n",
       "      <td>75.40</td>\n",
       "    </tr>\n",
       "    <tr>\n",
       "      <th>1</th>\n",
       "      <td>Btree-Millseconds</td>\n",
       "      <td>83.83</td>\n",
       "      <td>86.66</td>\n",
       "      <td>81.83</td>\n",
       "    </tr>\n",
       "    <tr>\n",
       "      <th>2</th>\n",
       "      <td>Cover</td>\n",
       "      <td>84.00</td>\n",
       "      <td>70.00</td>\n",
       "      <td>79.50</td>\n",
       "    </tr>\n",
       "    <tr>\n",
       "      <th>3</th>\n",
       "      <td>Reverse</td>\n",
       "      <td>154.33</td>\n",
       "      <td>121.00</td>\n",
       "      <td>78.16</td>\n",
       "    </tr>\n",
       "  </tbody>\n",
       "</table>\n",
       "</div>"
      ],
      "text/plain": [
       "                Type     20%     50%    80%\n",
       "0     Btree-TrackiId   88.60   86.20  75.40\n",
       "1  Btree-Millseconds   83.83   86.66  81.83\n",
       "2              Cover   84.00   70.00  79.50\n",
       "3            Reverse  154.33  121.00  78.16"
      ]
     },
     "execution_count": 3,
     "metadata": {},
     "output_type": "execute_result"
    }
   ],
   "source": [
    "index_build_time"
   ]
  },
  {
   "cell_type": "code",
   "execution_count": 4,
   "metadata": {},
   "outputs": [],
   "source": [
    "index_build_time = pd.melt(index_build_time, id_vars = \"Type\", var_name = \"Size Reduced\", value_name = \"Time (ms)\")"
   ]
  },
  {
   "cell_type": "code",
   "execution_count": 5,
   "metadata": {},
   "outputs": [
    {
     "data": {
      "text/html": [
       "<div>\n",
       "<style scoped>\n",
       "    .dataframe tbody tr th:only-of-type {\n",
       "        vertical-align: middle;\n",
       "    }\n",
       "\n",
       "    .dataframe tbody tr th {\n",
       "        vertical-align: top;\n",
       "    }\n",
       "\n",
       "    .dataframe thead th {\n",
       "        text-align: right;\n",
       "    }\n",
       "</style>\n",
       "<table border=\"1\" class=\"dataframe\">\n",
       "  <thead>\n",
       "    <tr style=\"text-align: right;\">\n",
       "      <th></th>\n",
       "      <th>Type</th>\n",
       "      <th>Size Reduced</th>\n",
       "      <th>Time (ms)</th>\n",
       "    </tr>\n",
       "  </thead>\n",
       "  <tbody>\n",
       "    <tr>\n",
       "      <th>0</th>\n",
       "      <td>Btree-TrackiId</td>\n",
       "      <td>20%</td>\n",
       "      <td>88.60</td>\n",
       "    </tr>\n",
       "    <tr>\n",
       "      <th>1</th>\n",
       "      <td>Btree-Millseconds</td>\n",
       "      <td>20%</td>\n",
       "      <td>83.83</td>\n",
       "    </tr>\n",
       "    <tr>\n",
       "      <th>2</th>\n",
       "      <td>Cover</td>\n",
       "      <td>20%</td>\n",
       "      <td>84.00</td>\n",
       "    </tr>\n",
       "    <tr>\n",
       "      <th>3</th>\n",
       "      <td>Reverse</td>\n",
       "      <td>20%</td>\n",
       "      <td>154.33</td>\n",
       "    </tr>\n",
       "    <tr>\n",
       "      <th>4</th>\n",
       "      <td>Btree-TrackiId</td>\n",
       "      <td>50%</td>\n",
       "      <td>86.20</td>\n",
       "    </tr>\n",
       "    <tr>\n",
       "      <th>5</th>\n",
       "      <td>Btree-Millseconds</td>\n",
       "      <td>50%</td>\n",
       "      <td>86.66</td>\n",
       "    </tr>\n",
       "    <tr>\n",
       "      <th>6</th>\n",
       "      <td>Cover</td>\n",
       "      <td>50%</td>\n",
       "      <td>70.00</td>\n",
       "    </tr>\n",
       "    <tr>\n",
       "      <th>7</th>\n",
       "      <td>Reverse</td>\n",
       "      <td>50%</td>\n",
       "      <td>121.00</td>\n",
       "    </tr>\n",
       "    <tr>\n",
       "      <th>8</th>\n",
       "      <td>Btree-TrackiId</td>\n",
       "      <td>80%</td>\n",
       "      <td>75.40</td>\n",
       "    </tr>\n",
       "    <tr>\n",
       "      <th>9</th>\n",
       "      <td>Btree-Millseconds</td>\n",
       "      <td>80%</td>\n",
       "      <td>81.83</td>\n",
       "    </tr>\n",
       "    <tr>\n",
       "      <th>10</th>\n",
       "      <td>Cover</td>\n",
       "      <td>80%</td>\n",
       "      <td>79.50</td>\n",
       "    </tr>\n",
       "    <tr>\n",
       "      <th>11</th>\n",
       "      <td>Reverse</td>\n",
       "      <td>80%</td>\n",
       "      <td>78.16</td>\n",
       "    </tr>\n",
       "  </tbody>\n",
       "</table>\n",
       "</div>"
      ],
      "text/plain": [
       "                 Type Size Reduced  Time (ms)\n",
       "0      Btree-TrackiId          20%      88.60\n",
       "1   Btree-Millseconds          20%      83.83\n",
       "2               Cover          20%      84.00\n",
       "3             Reverse          20%     154.33\n",
       "4      Btree-TrackiId          50%      86.20\n",
       "5   Btree-Millseconds          50%      86.66\n",
       "6               Cover          50%      70.00\n",
       "7             Reverse          50%     121.00\n",
       "8      Btree-TrackiId          80%      75.40\n",
       "9   Btree-Millseconds          80%      81.83\n",
       "10              Cover          80%      79.50\n",
       "11            Reverse          80%      78.16"
      ]
     },
     "execution_count": 5,
     "metadata": {},
     "output_type": "execute_result"
    }
   ],
   "source": [
    "index_build_time"
   ]
  },
  {
   "cell_type": "code",
   "execution_count": 6,
   "metadata": {},
   "outputs": [
    {
     "data": {
      "image/png": "[encoded data removed]",
      "text/plain": [
       "<Figure size 556.875x432 with 1 Axes>"
      ]
     },
     "metadata": {},
     "output_type": "display_data"
    }
   ],
   "source": [
    "plt.style.use('ggplot')\n",
    "sns.catplot(x = 'Size Reduced', y = 'Time (ms)', hue = 'Type', data = index_build_time, kind = 'bar', height = 6, aspect = 1)\n",
    "plt.title(\"Part C: Extensions - Index Build Time\")\n",
    "plt.show()"
   ]
  },
  {
   "cell_type": "code",
   "execution_count": null,
   "metadata": {},
   "outputs": [],
   "source": []
  }
 ],
 "metadata": {
  "kernelspec": {
   "display_name": "Python 3",
   "language": "python",
   "name": "python3"
  },
  "language_info": {
   "codemirror_mode": {
    "name": "ipython",
    "version": 3
   },
   "file_extension": ".py",
   "mimetype": "text/x-python",
   "name": "python",
   "nbconvert_exporter": "python",
   "pygments_lexer": "ipython3",
   "version": "3.7.0"
  }
 },
 "nbformat": 4,
 "nbformat_minor": 2
}
