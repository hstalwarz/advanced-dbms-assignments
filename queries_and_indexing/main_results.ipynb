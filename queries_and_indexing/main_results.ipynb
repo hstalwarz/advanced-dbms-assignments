{
 "cells": [
  {
   "cell_type": "code",
   "execution_count": 1,
   "metadata": {},
   "outputs": [],
   "source": [
    "import pandas as pd\n",
    "import seaborn as sns\n",
    "import matplotlib.pyplot as plt"
   ]
  },
  {
   "cell_type": "code",
   "execution_count": 2,
   "metadata": {},
   "outputs": [],
   "source": [
    "selection_query = pd.DataFrame({\"Type\": [\"Baseline\", \"Btree\", \"Cover\", \"Reverse\"],\n",
    "                                \"20%\": [3.0978, 1.937, 1.963, 2.983],\n",
    "                                \"50%\": [4.4556, 4.4898, 4.5054, 4.4546],\n",
    "                                \"80%\": [5.6116, 5.6582, 5.6124, 5.6006]})"
   ]
  },
  {
   "cell_type": "code",
   "execution_count": 2,
   "metadata": {},
   "outputs": [],
   "source": [
    "join_query = pd.DataFrame({\"Type\": [\"Baseline\", \"Btree\", \"Cover\", \"Filter\"],\n",
    "                                \"20%\": [34.5614, 33.3448, 32.793, 31.5016],\n",
    "                                \"50%\": [44.7684, 45.69, 45.2936, 44.2624],\n",
    "                                \"80%\": [56.2124, 54.5628, 54.1644, 54.346]})"
   ]
  },
  {
   "cell_type": "code",
   "execution_count": 3,
   "metadata": {
    "scrolled": true
   },
   "outputs": [
    {
     "data": {
      "text/html": [
       "<div>\n",
       "<style scoped>\n",
       "    .dataframe tbody tr th:only-of-type {\n",
       "        vertical-align: middle;\n",
       "    }\n",
       "\n",
       "    .dataframe tbody tr th {\n",
       "        vertical-align: top;\n",
       "    }\n",
       "\n",
       "    .dataframe thead th {\n",
       "        text-align: right;\n",
       "    }\n",
       "</style>\n",
       "<table border=\"1\" class=\"dataframe\">\n",
       "  <thead>\n",
       "    <tr style=\"text-align: right;\">\n",
       "      <th></th>\n",
       "      <th>Type</th>\n",
       "      <th>20%</th>\n",
       "      <th>50%</th>\n",
       "      <th>80%</th>\n",
       "    </tr>\n",
       "  </thead>\n",
       "  <tbody>\n",
       "    <tr>\n",
       "      <th>0</th>\n",
       "      <td>Baseline</td>\n",
       "      <td>3.0978</td>\n",
       "      <td>4.4556</td>\n",
       "      <td>5.6116</td>\n",
       "    </tr>\n",
       "    <tr>\n",
       "      <th>1</th>\n",
       "      <td>Btree</td>\n",
       "      <td>1.9370</td>\n",
       "      <td>4.4898</td>\n",
       "      <td>5.6582</td>\n",
       "    </tr>\n",
       "    <tr>\n",
       "      <th>2</th>\n",
       "      <td>Cover</td>\n",
       "      <td>1.9630</td>\n",
       "      <td>4.5054</td>\n",
       "      <td>5.6124</td>\n",
       "    </tr>\n",
       "    <tr>\n",
       "      <th>3</th>\n",
       "      <td>Reverse</td>\n",
       "      <td>2.9830</td>\n",
       "      <td>4.4546</td>\n",
       "      <td>5.6006</td>\n",
       "    </tr>\n",
       "  </tbody>\n",
       "</table>\n",
       "</div>"
      ],
      "text/plain": [
       "       Type     20%     50%     80%\n",
       "0  Baseline  3.0978  4.4556  5.6116\n",
       "1     Btree  1.9370  4.4898  5.6582\n",
       "2     Cover  1.9630  4.5054  5.6124\n",
       "3   Reverse  2.9830  4.4546  5.6006"
      ]
     },
     "execution_count": 3,
     "metadata": {},
     "output_type": "execute_result"
    }
   ],
   "source": [
    "selection_query"
   ]
  },
  {
   "cell_type": "code",
   "execution_count": 3,
   "metadata": {},
   "outputs": [
    {
     "data": {
      "text/html": [
       "<div>\n",
       "<style scoped>\n",
       "    .dataframe tbody tr th:only-of-type {\n",
       "        vertical-align: middle;\n",
       "    }\n",
       "\n",
       "    .dataframe tbody tr th {\n",
       "        vertical-align: top;\n",
       "    }\n",
       "\n",
       "    .dataframe thead th {\n",
       "        text-align: right;\n",
       "    }\n",
       "</style>\n",
       "<table border=\"1\" class=\"dataframe\">\n",
       "  <thead>\n",
       "    <tr style=\"text-align: right;\">\n",
       "      <th></th>\n",
       "      <th>Type</th>\n",
       "      <th>20%</th>\n",
       "      <th>50%</th>\n",
       "      <th>80%</th>\n",
       "    </tr>\n",
       "  </thead>\n",
       "  <tbody>\n",
       "    <tr>\n",
       "      <th>0</th>\n",
       "      <td>Baseline</td>\n",
       "      <td>34.5614</td>\n",
       "      <td>44.7684</td>\n",
       "      <td>56.2124</td>\n",
       "    </tr>\n",
       "    <tr>\n",
       "      <th>1</th>\n",
       "      <td>Btree</td>\n",
       "      <td>33.3448</td>\n",
       "      <td>45.6900</td>\n",
       "      <td>54.5628</td>\n",
       "    </tr>\n",
       "    <tr>\n",
       "      <th>2</th>\n",
       "      <td>Cover</td>\n",
       "      <td>32.7930</td>\n",
       "      <td>45.2936</td>\n",
       "      <td>54.1644</td>\n",
       "    </tr>\n",
       "    <tr>\n",
       "      <th>3</th>\n",
       "      <td>Filter</td>\n",
       "      <td>31.5016</td>\n",
       "      <td>44.2624</td>\n",
       "      <td>54.3460</td>\n",
       "    </tr>\n",
       "  </tbody>\n",
       "</table>\n",
       "</div>"
      ],
      "text/plain": [
       "       Type      20%      50%      80%\n",
       "0  Baseline  34.5614  44.7684  56.2124\n",
       "1     Btree  33.3448  45.6900  54.5628\n",
       "2     Cover  32.7930  45.2936  54.1644\n",
       "3    Filter  31.5016  44.2624  54.3460"
      ]
     },
     "execution_count": 3,
     "metadata": {},
     "output_type": "execute_result"
    }
   ],
   "source": [
    "join_query"
   ]
  },
  {
   "cell_type": "code",
   "execution_count": 4,
   "metadata": {},
   "outputs": [],
   "source": [
    "selection_query = pd.melt(selection_query, id_vars = \"Type\", var_name = \"Selectivity\", value_name = \"Time (ms)\")"
   ]
  },
  {
   "cell_type": "code",
   "execution_count": 4,
   "metadata": {},
   "outputs": [],
   "source": [
    "join_query = pd.melt(join_query, id_vars = \"Type\", var_name = \"Selectivity\", value_name = \"Time (ms)\")"
   ]
  },
  {
   "cell_type": "code",
   "execution_count": 5,
   "metadata": {
    "scrolled": true
   },
   "outputs": [
    {
     "data": {
      "text/html": [
       "<div>\n",
       "<style scoped>\n",
       "    .dataframe tbody tr th:only-of-type {\n",
       "        vertical-align: middle;\n",
       "    }\n",
       "\n",
       "    .dataframe tbody tr th {\n",
       "        vertical-align: top;\n",
       "    }\n",
       "\n",
       "    .dataframe thead th {\n",
       "        text-align: right;\n",
       "    }\n",
       "</style>\n",
       "<table border=\"1\" class=\"dataframe\">\n",
       "  <thead>\n",
       "    <tr style=\"text-align: right;\">\n",
       "      <th></th>\n",
       "      <th>Type</th>\n",
       "      <th>Selectivity</th>\n",
       "      <th>Time (ms)</th>\n",
       "    </tr>\n",
       "  </thead>\n",
       "  <tbody>\n",
       "    <tr>\n",
       "      <th>0</th>\n",
       "      <td>Baseline</td>\n",
       "      <td>20%</td>\n",
       "      <td>3.0978</td>\n",
       "    </tr>\n",
       "    <tr>\n",
       "      <th>1</th>\n",
       "      <td>Btree</td>\n",
       "      <td>20%</td>\n",
       "      <td>1.9370</td>\n",
       "    </tr>\n",
       "    <tr>\n",
       "      <th>2</th>\n",
       "      <td>Cover</td>\n",
       "      <td>20%</td>\n",
       "      <td>1.9630</td>\n",
       "    </tr>\n",
       "    <tr>\n",
       "      <th>3</th>\n",
       "      <td>Reverse</td>\n",
       "      <td>20%</td>\n",
       "      <td>2.9830</td>\n",
       "    </tr>\n",
       "    <tr>\n",
       "      <th>4</th>\n",
       "      <td>Baseline</td>\n",
       "      <td>50%</td>\n",
       "      <td>4.4556</td>\n",
       "    </tr>\n",
       "    <tr>\n",
       "      <th>5</th>\n",
       "      <td>Btree</td>\n",
       "      <td>50%</td>\n",
       "      <td>4.4898</td>\n",
       "    </tr>\n",
       "    <tr>\n",
       "      <th>6</th>\n",
       "      <td>Cover</td>\n",
       "      <td>50%</td>\n",
       "      <td>4.5054</td>\n",
       "    </tr>\n",
       "    <tr>\n",
       "      <th>7</th>\n",
       "      <td>Reverse</td>\n",
       "      <td>50%</td>\n",
       "      <td>4.4546</td>\n",
       "    </tr>\n",
       "    <tr>\n",
       "      <th>8</th>\n",
       "      <td>Baseline</td>\n",
       "      <td>80%</td>\n",
       "      <td>5.6116</td>\n",
       "    </tr>\n",
       "    <tr>\n",
       "      <th>9</th>\n",
       "      <td>Btree</td>\n",
       "      <td>80%</td>\n",
       "      <td>5.6582</td>\n",
       "    </tr>\n",
       "    <tr>\n",
       "      <th>10</th>\n",
       "      <td>Cover</td>\n",
       "      <td>80%</td>\n",
       "      <td>5.6124</td>\n",
       "    </tr>\n",
       "    <tr>\n",
       "      <th>11</th>\n",
       "      <td>Reverse</td>\n",
       "      <td>80%</td>\n",
       "      <td>5.6006</td>\n",
       "    </tr>\n",
       "  </tbody>\n",
       "</table>\n",
       "</div>"
      ],
      "text/plain": [
       "        Type Selectivity  Time (ms)\n",
       "0   Baseline         20%     3.0978\n",
       "1      Btree         20%     1.9370\n",
       "2      Cover         20%     1.9630\n",
       "3    Reverse         20%     2.9830\n",
       "4   Baseline         50%     4.4556\n",
       "5      Btree         50%     4.4898\n",
       "6      Cover         50%     4.5054\n",
       "7    Reverse         50%     4.4546\n",
       "8   Baseline         80%     5.6116\n",
       "9      Btree         80%     5.6582\n",
       "10     Cover         80%     5.6124\n",
       "11   Reverse         80%     5.6006"
      ]
     },
     "execution_count": 5,
     "metadata": {},
     "output_type": "execute_result"
    }
   ],
   "source": [
    "selection_query"
   ]
  },
  {
   "cell_type": "code",
   "execution_count": 5,
   "metadata": {},
   "outputs": [
    {
     "data": {
      "text/html": [
       "<div>\n",
       "<style scoped>\n",
       "    .dataframe tbody tr th:only-of-type {\n",
       "        vertical-align: middle;\n",
       "    }\n",
       "\n",
       "    .dataframe tbody tr th {\n",
       "        vertical-align: top;\n",
       "    }\n",
       "\n",
       "    .dataframe thead th {\n",
       "        text-align: right;\n",
       "    }\n",
       "</style>\n",
       "<table border=\"1\" class=\"dataframe\">\n",
       "  <thead>\n",
       "    <tr style=\"text-align: right;\">\n",
       "      <th></th>\n",
       "      <th>Type</th>\n",
       "      <th>Selectivity</th>\n",
       "      <th>Time (ms)</th>\n",
       "    </tr>\n",
       "  </thead>\n",
       "  <tbody>\n",
       "    <tr>\n",
       "      <th>0</th>\n",
       "      <td>Baseline</td>\n",
       "      <td>20%</td>\n",
       "      <td>34.5614</td>\n",
       "    </tr>\n",
       "    <tr>\n",
       "      <th>1</th>\n",
       "      <td>Btree</td>\n",
       "      <td>20%</td>\n",
       "      <td>33.3448</td>\n",
       "    </tr>\n",
       "    <tr>\n",
       "      <th>2</th>\n",
       "      <td>Cover</td>\n",
       "      <td>20%</td>\n",
       "      <td>32.7930</td>\n",
       "    </tr>\n",
       "    <tr>\n",
       "      <th>3</th>\n",
       "      <td>Filter</td>\n",
       "      <td>20%</td>\n",
       "      <td>31.5016</td>\n",
       "    </tr>\n",
       "    <tr>\n",
       "      <th>4</th>\n",
       "      <td>Baseline</td>\n",
       "      <td>50%</td>\n",
       "      <td>44.7684</td>\n",
       "    </tr>\n",
       "    <tr>\n",
       "      <th>5</th>\n",
       "      <td>Btree</td>\n",
       "      <td>50%</td>\n",
       "      <td>45.6900</td>\n",
       "    </tr>\n",
       "    <tr>\n",
       "      <th>6</th>\n",
       "      <td>Cover</td>\n",
       "      <td>50%</td>\n",
       "      <td>45.2936</td>\n",
       "    </tr>\n",
       "    <tr>\n",
       "      <th>7</th>\n",
       "      <td>Filter</td>\n",
       "      <td>50%</td>\n",
       "      <td>44.2624</td>\n",
       "    </tr>\n",
       "    <tr>\n",
       "      <th>8</th>\n",
       "      <td>Baseline</td>\n",
       "      <td>80%</td>\n",
       "      <td>56.2124</td>\n",
       "    </tr>\n",
       "    <tr>\n",
       "      <th>9</th>\n",
       "      <td>Btree</td>\n",
       "      <td>80%</td>\n",
       "      <td>54.5628</td>\n",
       "    </tr>\n",
       "    <tr>\n",
       "      <th>10</th>\n",
       "      <td>Cover</td>\n",
       "      <td>80%</td>\n",
       "      <td>54.1644</td>\n",
       "    </tr>\n",
       "    <tr>\n",
       "      <th>11</th>\n",
       "      <td>Filter</td>\n",
       "      <td>80%</td>\n",
       "      <td>54.3460</td>\n",
       "    </tr>\n",
       "  </tbody>\n",
       "</table>\n",
       "</div>"
      ],
      "text/plain": [
       "        Type Selectivity  Time (ms)\n",
       "0   Baseline         20%    34.5614\n",
       "1      Btree         20%    33.3448\n",
       "2      Cover         20%    32.7930\n",
       "3     Filter         20%    31.5016\n",
       "4   Baseline         50%    44.7684\n",
       "5      Btree         50%    45.6900\n",
       "6      Cover         50%    45.2936\n",
       "7     Filter         50%    44.2624\n",
       "8   Baseline         80%    56.2124\n",
       "9      Btree         80%    54.5628\n",
       "10     Cover         80%    54.1644\n",
       "11    Filter         80%    54.3460"
      ]
     },
     "execution_count": 5,
     "metadata": {},
     "output_type": "execute_result"
    }
   ],
   "source": [
    "join_query"
   ]
  },
  {
   "cell_type": "code",
   "execution_count": 6,
   "metadata": {
    "scrolled": true
   },
   "outputs": [
    {
     "data": {
      "image/png": "[encoded data removed]",
      "text/plain": [
       "<Figure size 510.625x432 with 1 Axes>"
      ]
     },
     "metadata": {},
     "output_type": "display_data"
    }
   ],
   "source": [
    "plt.style.use('ggplot')\n",
    "sns.catplot(x = 'Selectivity', y = 'Time (ms)', hue = 'Type', data = selection_query, kind = 'bar', height = 6, aspect = 1)\n",
    "plt.title(\"Part A: Selection Query\")\n",
    "plt.show()"
   ]
  },
  {
   "cell_type": "code",
   "execution_count": 6,
   "metadata": {},
   "outputs": [
    {
     "data": {
      "image/png": "[encoded data removed]",
      "text/plain": [
       "<Figure size 510.625x432 with 1 Axes>"
      ]
     },
     "metadata": {},
     "output_type": "display_data"
    }
   ],
   "source": [
    "plt.style.use('ggplot')\n",
    "sns.catplot(x = 'Selectivity', y = 'Time (ms)', hue = 'Type', data = join_query, kind = 'bar', height = 6, aspect = 1)\n",
    "plt.title(\"Part B: Join Query\")\n",
    "plt.show()"
   ]
  },
  {
   "cell_type": "code",
   "execution_count": null,
   "metadata": {},
   "outputs": [],
   "source": []
  }
 ],
 "metadata": {
  "kernelspec": {
   "display_name": "Python 3",
   "language": "python",
   "name": "python3"
  },
  "language_info": {
   "codemirror_mode": {
    "name": "ipython",
    "version": 3
   },
   "file_extension": ".py",
   "mimetype": "text/x-python",
   "name": "python",
   "nbconvert_exporter": "python",
   "pygments_lexer": "ipython3",
   "version": "3.6.4"
  }
 },
 "nbformat": 4,
 "nbformat_minor": 2
}
